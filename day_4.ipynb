{
 "cells": [
  {
   "cell_type": "code",
   "execution_count": 8,
   "id": "e4f76bc6",
   "metadata": {},
   "outputs": [],
   "source": [
    "from langchain_community.document_loaders import PyPDFLoader\n",
    "from langchain_community.vectorstores import FAISS\n",
    "from langchain_community.embeddings import HuggingFaceEmbeddings\n",
    "from langchain.chat_models import init_chat_model\n",
    "from langchain.chains import RetrievalQA"
   ]
  },
  {
   "cell_type": "code",
   "execution_count": 5,
   "id": "3037c728",
   "metadata": {},
   "outputs": [],
   "source": [
    "loader = PyPDFLoader(\"resume.pdf\")   \n",
    "documents = loader.load()"
   ]
  },
  {
   "cell_type": "code",
   "execution_count": 6,
   "id": "58e54a08",
   "metadata": {},
   "outputs": [
    {
     "name": "stderr",
     "output_type": "stream",
     "text": [
      "C:\\Users\\KIIT\\AppData\\Local\\Temp\\ipykernel_16968\\1335413559.py:2: LangChainDeprecationWarning: The class `HuggingFaceEmbeddings` was deprecated in LangChain 0.2.2 and will be removed in 1.0. An updated version of the class exists in the :class:`~langchain-huggingface package and should be used instead. To use it run `pip install -U :class:`~langchain-huggingface` and import as `from :class:`~langchain_huggingface import HuggingFaceEmbeddings``.\n",
      "  embeddings = HuggingFaceEmbeddings(model_name=\"sentence-transformers/all-MiniLM-L6-v2\")\n"
     ]
    },
    {
     "name": "stdout",
     "output_type": "stream",
     "text": [
      "WARNING:tensorflow:From c:\\Users\\KIIT\\anaconda3\\envs\\learning\\lib\\site-packages\\tf_keras\\src\\losses.py:2976: The name tf.losses.sparse_softmax_cross_entropy is deprecated. Please use tf.compat.v1.losses.sparse_softmax_cross_entropy instead.\n",
      "\n"
     ]
    }
   ],
   "source": [
    "# 2. Create embeddings with HuggingFace\n",
    "embeddings = HuggingFaceEmbeddings(model_name=\"sentence-transformers/all-MiniLM-L6-v2\")\n",
    "\n"
   ]
  },
  {
   "cell_type": "code",
   "execution_count": 9,
   "id": "c18cbde5",
   "metadata": {},
   "outputs": [],
   "source": [
    "# 3. Build vectorstore (FAISS)\n",
    "vectorstore = FAISS.from_documents(documents, embeddings)"
   ]
  },
  {
   "cell_type": "code",
   "execution_count": 10,
   "id": "b14bb668",
   "metadata": {},
   "outputs": [],
   "source": [
    "# 4. Setup retriever\n",
    "retriever = vectorstore.as_retriever()\n",
    "\n",
    "llm= init_chat_model(\"gemma2-9b-it\", model_provider=\"groq\")"
   ]
  },
  {
   "cell_type": "code",
   "execution_count": 11,
   "id": "4c2a8e45",
   "metadata": {},
   "outputs": [],
   "source": [
    "qa_chain = RetrievalQA.from_chain_type(\n",
    "    llm=llm,\n",
    "    retriever=retriever,\n",
    "    chain_type=\"stuff\"\n",
    ")"
   ]
  },
  {
   "cell_type": "code",
   "execution_count": 12,
   "id": "3b9d833a",
   "metadata": {},
   "outputs": [
    {
     "name": "stderr",
     "output_type": "stream",
     "text": [
      "C:\\Users\\KIIT\\AppData\\Local\\Temp\\ipykernel_16968\\4012008654.py:5: LangChainDeprecationWarning: The method `Chain.run` was deprecated in langchain 0.1.0 and will be removed in 1.0. Use :meth:`~invoke` instead.\n",
      "  answer = qa_chain.run(query)\n"
     ]
    },
    {
     "name": "stdout",
     "output_type": "stream",
     "text": [
      "\n",
      "Answer: This PDF is a resume for Roshan Kumar Singh. \n",
      " \n",
      "\n",
      "\n",
      "Answer: Based on the provided context, Roshan Kumar Singh seems best suited for a role as a **Machine Learning Engineer** or a **Full Stack AI Developer**. \n",
      "\n",
      "Here's why:\n",
      "\n",
      "* **Strong AI & ML Skills:**  He lists proficiency in various AI/ML libraries (TensorFlow, PyTorch, Scikit-learn, Hugging Face, etc.) and demonstrates experience with LLMs and NLP.\n",
      "* **Full Stack Development Expertise:**  His skills encompass both backend development (FastAPI, Pydantic, MongoDB, PostgreSQL) and frontend technologies (HTML, CSS, JavaScript, React).\n",
      "* **Project Experience:** His projects, \"VeriStream\" and \"InsightGenei.ai,\" showcase his ability to build AI-powered applications from the ground up, demonstrating both technical and problem-solving skills.\n",
      "* **Competitive Programming:** His achievements in CodeChef highlight his strong algorithmic thinking and problem-solving abilities, crucial for ML development. \n",
      "\n",
      "\n",
      "Let me know if you have any other questions! \n",
      " \n",
      "\n"
     ]
    }
   ],
   "source": [
    "while True:\n",
    "    query = input(\"Ask a question about the PDF (or 'exit'): \")\n",
    "    if query.lower() == \"exit\":\n",
    "        break\n",
    "    answer = qa_chain.run(query)\n",
    "    print(\"\\nAnswer:\", answer, \"\\n\")"
   ]
  },
  {
   "cell_type": "code",
   "execution_count": null,
   "id": "a340cb8e",
   "metadata": {},
   "outputs": [],
   "source": []
  }
 ],
 "metadata": {
  "kernelspec": {
   "display_name": "learning",
   "language": "python",
   "name": "python3"
  },
  "language_info": {
   "codemirror_mode": {
    "name": "ipython",
    "version": 3
   },
   "file_extension": ".py",
   "mimetype": "text/x-python",
   "name": "python",
   "nbconvert_exporter": "python",
   "pygments_lexer": "ipython3",
   "version": "3.10.0"
  }
 },
 "nbformat": 4,
 "nbformat_minor": 5
}
