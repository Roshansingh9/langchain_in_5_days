{
 "cells": [
  {
   "cell_type": "code",
   "execution_count": 1,
   "id": "2cad00ef",
   "metadata": {},
   "outputs": [],
   "source": [
    "import wikipedia\n",
    "from langchain.chat_models import init_chat_model\n",
    "from langchain_core.prompts import PromptTemplate\n",
    "from langchain.chains import LLMChain\n",
    "import pandas as pd\n"
   ]
  },
  {
   "cell_type": "code",
   "execution_count": 2,
   "id": "9bc72444",
   "metadata": {},
   "outputs": [
    {
     "name": "stdout",
     "output_type": "stream",
     "text": [
      "{'from': None, 'to': None, 'subject': None, 'date': None, 'body': \"Hi LeetCoder!\\nSince August, students across the globe have been joining our Back-to-School Promotion to grab LeetCode Premium at just $119/year. We are now in the final stretch, the promotion ends on September 24th. Don’t miss your chance to get access to premium problems, exclusive course offerings, and tools designed to help you ace your interviews. Check out this post for full details.\\n\\nDon't forget to join us for the Daily LeetCoding Challenge, as you could earn a badge for completing the daily coding challenge for the month. Happy LeetCoding! 😎\"}\n"
     ]
    }
   ],
   "source": [
    "from email import message_from_string\n",
    "\n",
    "raw_email = \"\"\"Hi LeetCoder!\n",
    "Since August, students across the globe have been joining our Back-to-School Promotion to grab LeetCode Premium at just $119/year. We are now in the final stretch, the promotion ends on September 24th. Don’t miss your chance to get access to premium problems, exclusive course offerings, and tools designed to help you ace your interviews. Check out this post for full details.\n",
    "\n",
    "Don't forget to join us for the Daily LeetCoding Challenge, as you could earn a badge for completing the daily coding challenge for the month. Happy LeetCoding! 😎\"\"\"\n",
    "\n",
    "msg = message_from_string(raw_email)\n",
    "\n",
    "parsed_email = {\n",
    "    \"from\": msg[\"From\"],\n",
    "    \"to\": msg[\"To\"],\n",
    "    \"subject\": msg[\"Subject\"],\n",
    "    \"date\": msg[\"Date\"],\n",
    "    \"body\": msg.get_payload()\n",
    "}\n",
    "\n",
    "print(parsed_email)\n"
   ]
  },
  {
   "cell_type": "code",
   "execution_count": 3,
   "id": "b392968b",
   "metadata": {},
   "outputs": [],
   "source": [
    "llm= init_chat_model(\"gemma2-9b-it\", model_provider=\"groq\")"
   ]
  },
  {
   "cell_type": "code",
   "execution_count": 4,
   "id": "90307c8b",
   "metadata": {},
   "outputs": [
    {
     "name": "stderr",
     "output_type": "stream",
     "text": [
      "C:\\Users\\KIIT\\AppData\\Local\\Temp\\ipykernel_2776\\239865130.py:16: LangChainDeprecationWarning: The class `LLMChain` was deprecated in LangChain 0.1.17 and will be removed in 1.0. Use :meth:`~RunnableSequence, e.g., `prompt | llm`` instead.\n",
      "  chain =LLMChain(llm=llm, prompt=prompt)\n"
     ]
    }
   ],
   "source": [
    "prompt = PromptTemplate(\n",
    "    template=\"\"\"\n",
    "Summarize this email in 2 lines.  \n",
    "Then classify it into one of: [Spam, Important, Newsletter, Other].  \n",
    "\n",
    "Email:\n",
    "From: {from_field}\n",
    "Subject: {subject}\n",
    "Body: {body}\n",
    "\n",
    "Return JSON with keys: summary, category\n",
    "\"\"\",\n",
    "    input_variables=[\"from_field\", \"subject\", \"body\"]\n",
    ")\n",
    "\n",
    "chain =LLMChain(llm=llm, prompt=prompt)"
   ]
  },
  {
   "cell_type": "code",
   "execution_count": 6,
   "id": "a8490006",
   "metadata": {},
   "outputs": [
    {
     "name": "stdout",
     "output_type": "stream",
     "text": [
      "```json\n",
      "{\n",
      "  \"summary\": \"LeetCode is having a Back-to-School promotion ending September 24th, offering discounted Premium access and a Daily LeetCoding Challenge with badges.\",\n",
      "  \"category\": \"Newsletter\"\n",
      "}\n",
      "```\n"
     ]
    }
   ],
   "source": [
    "result = chain.invoke({\n",
    "    \"from_field\": parsed_email[\"from\"],\n",
    "    \"subject\": parsed_email[\"subject\"],\n",
    "    \"body\": parsed_email[\"body\"]\n",
    "})\n",
    "\n",
    "print(result['text'])\n"
   ]
  },
  {
   "cell_type": "code",
   "execution_count": null,
   "id": "c4805e51",
   "metadata": {},
   "outputs": [],
   "source": []
  }
 ],
 "metadata": {
  "kernelspec": {
   "display_name": "learning",
   "language": "python",
   "name": "python3"
  },
  "language_info": {
   "codemirror_mode": {
    "name": "ipython",
    "version": 3
   },
   "file_extension": ".py",
   "mimetype": "text/x-python",
   "name": "python",
   "nbconvert_exporter": "python",
   "pygments_lexer": "ipython3",
   "version": "3.10.0"
  }
 },
 "nbformat": 4,
 "nbformat_minor": 5
}
